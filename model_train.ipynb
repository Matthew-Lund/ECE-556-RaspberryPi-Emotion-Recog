{
 "cells": [
  {
   "cell_type": "markdown",
   "metadata": {},
   "source": [
    "Libraries"
   ]
  },
  {
   "cell_type": "code",
   "execution_count": 1,
   "metadata": {},
   "outputs": [
    {
     "name": "stderr",
     "output_type": "stream",
     "text": [
      "/home/lundm/.local/lib/python3.10/site-packages/tqdm/auto.py:21: TqdmWarning: IProgress not found. Please update jupyter and ipywidgets. See https://ipywidgets.readthedocs.io/en/stable/user_install.html\n",
      "  from .autonotebook import tqdm as notebook_tqdm\n"
     ]
    },
    {
     "name": "stdout",
     "output_type": "stream",
     "text": [
      "True\n",
      "cuda\n"
     ]
    }
   ],
   "source": [
    "import torch\n",
    "import torch.nn as nn\n",
    "import torch.optim as optim\n",
    "from torchvision import datasets, transforms, models\n",
    "from torch.utils.data import DataLoader\n",
    "from torch.optim.lr_scheduler import StepLR\n",
    "from torch.cuda.amp import GradScaler, autocast\n",
    "\n",
    "print(torch.cuda.is_available())\n",
    "device = torch.device(\"cuda\" if torch.cuda.is_available() else \"cpu\")\n",
    "\n",
    "print(device)"
   ]
  },
  {
   "cell_type": "markdown",
   "metadata": {},
   "source": [
    "Data Transformations and Dataset file paths"
   ]
  },
  {
   "cell_type": "code",
   "execution_count": 2,
   "metadata": {},
   "outputs": [],
   "source": [
    "img_train_path = 'images/train'\n",
    "img_validation_path = 'images/validation'"
   ]
  },
  {
   "cell_type": "code",
   "execution_count": 3,
   "metadata": {},
   "outputs": [],
   "source": [
    "transform = transforms.Compose([\n",
    "    transforms.RandomHorizontalFlip(),\n",
    "    transforms.RandomResizedCrop(224),\n",
    "    transforms.RandomRotation(10),\n",
    "    transforms.ColorJitter(brightness=0.2, contrast=0.2, saturation=0.2, hue=0.2),\n",
    "    transforms.RandomAffine(degrees=0, translate=(0.1, 0.1)),\n",
    "    transforms.ToTensor(),\n",
    "    transforms.Normalize(mean=[0.485, 0.456, 0.406], std=[0.229, 0.224, 0.225]),\n",
    "])\n",
    "\n",
    "# Load datasets\n",
    "train_dataset = datasets.ImageFolder(root=img_train_path, transform=transform)\n",
    "val_dataset = datasets.ImageFolder(root=img_validation_path, transform=transform)\n",
    "\n",
    "batch_size = 128\n",
    "\n",
    "train_loader = DataLoader(train_dataset, batch_size=batch_size, shuffle=True, num_workers=4)\n",
    "val_loader = DataLoader(val_dataset, batch_size=batch_size, shuffle=False, num_workers=4)"
   ]
  },
  {
   "cell_type": "markdown",
   "metadata": {},
   "source": [
    "Model Loading (Utilizing ResNet18)"
   ]
  },
  {
   "cell_type": "code",
   "execution_count": 4,
   "metadata": {},
   "outputs": [],
   "source": [
    "class EmotionCNN(nn.Module):\n",
    "    def __init__(self, num_classes):\n",
    "        super(EmotionCNN, self).__init__()\n",
    "        self.model = models.resnet50(pretrained=True)\n",
    "        self.model.fc = nn.Linear(self.model.fc.in_features, num_classes)\n",
    "    \n",
    "    def forward(self, x):\n",
    "        return self.model(x)"
   ]
  },
  {
   "cell_type": "markdown",
   "metadata": {},
   "source": [
    "Training + Loss Func + Optimizer"
   ]
  },
  {
   "cell_type": "code",
   "execution_count": 5,
   "metadata": {},
   "outputs": [
    {
     "name": "stderr",
     "output_type": "stream",
     "text": [
      "/home/lundm/.local/lib/python3.10/site-packages/torchvision/models/_utils.py:208: UserWarning: The parameter 'pretrained' is deprecated since 0.13 and may be removed in the future, please use 'weights' instead.\n",
      "  warnings.warn(\n",
      "/home/lundm/.local/lib/python3.10/site-packages/torchvision/models/_utils.py:223: UserWarning: Arguments other than a weight enum or `None` for 'weights' are deprecated since 0.13 and may be removed in the future. The current behavior is equivalent to passing `weights=ResNet50_Weights.IMAGENET1K_V1`. You can also use `weights=ResNet50_Weights.DEFAULT` to get the most up-to-date weights.\n",
      "  warnings.warn(msg)\n"
     ]
    }
   ],
   "source": [
    "num_classes = 7\n",
    "\n",
    "model = EmotionCNN(num_classes).to(device)\n",
    "\n",
    "criterion = nn.CrossEntropyLoss()\n",
    "optimizer = optim.Adagrad(model.parameters(), lr=2e-4)\n",
    "scheduler = StepLR(optimizer, step_size=7, gamma=0.1)\n",
    "scaler = GradScaler()\n",
    "\n",
    "\n",
    "num_epochs = 15"
   ]
  },
  {
   "cell_type": "code",
   "execution_count": 6,
   "metadata": {},
   "outputs": [
    {
     "name": "stdout",
     "output_type": "stream",
     "text": [
      "Epoch 0/14, Training Loss: 1.4989, Training Accuracy: 0.4133\n",
      "Validation Loss: 1.3814, Validation Accuracy: 0.4711\n",
      "Epoch 1/14, Training Loss: 1.3398, Training Accuracy: 0.4821\n",
      "Validation Loss: 1.2986, Validation Accuracy: 0.5001\n",
      "Epoch 2/14, Training Loss: 1.2877, Training Accuracy: 0.5032\n",
      "Validation Loss: 1.2637, Validation Accuracy: 0.5146\n",
      "Epoch 3/14, Training Loss: 1.2579, Training Accuracy: 0.5163\n",
      "Validation Loss: 1.2479, Validation Accuracy: 0.5212\n",
      "Epoch 4/14, Training Loss: 1.2243, Training Accuracy: 0.5325\n",
      "Validation Loss: 1.2367, Validation Accuracy: 0.5304\n",
      "Epoch 5/14, Training Loss: 1.2069, Training Accuracy: 0.5419\n",
      "Validation Loss: 1.2046, Validation Accuracy: 0.5413\n",
      "Epoch 6/14, Training Loss: 1.1915, Training Accuracy: 0.5455\n",
      "Validation Loss: 1.1948, Validation Accuracy: 0.5413\n",
      "Epoch 7/14, Training Loss: 1.1873, Training Accuracy: 0.5460\n",
      "Validation Loss: 1.1970, Validation Accuracy: 0.5514\n",
      "Epoch 8/14, Training Loss: 1.1771, Training Accuracy: 0.5516\n",
      "Validation Loss: 1.1949, Validation Accuracy: 0.5500\n",
      "Epoch 9/14, Training Loss: 1.1757, Training Accuracy: 0.5529\n",
      "Validation Loss: 1.1921, Validation Accuracy: 0.5500\n",
      "Epoch 10/14, Training Loss: 1.1734, Training Accuracy: 0.5553\n",
      "Validation Loss: 1.1901, Validation Accuracy: 0.5467\n",
      "Epoch 11/14, Training Loss: 1.1794, Training Accuracy: 0.5512\n",
      "Validation Loss: 1.1964, Validation Accuracy: 0.5524\n",
      "Epoch 12/14, Training Loss: 1.1735, Training Accuracy: 0.5526\n",
      "Validation Loss: 1.1912, Validation Accuracy: 0.5434\n",
      "Epoch 13/14, Training Loss: 1.1636, Training Accuracy: 0.5589\n",
      "Validation Loss: 1.1930, Validation Accuracy: 0.5498\n",
      "Epoch 14/14, Training Loss: 1.1726, Training Accuracy: 0.5510\n",
      "Validation Loss: 1.1930, Validation Accuracy: 0.5483\n"
     ]
    }
   ],
   "source": [
    "\n",
    "for epoch in range(num_epochs):\n",
    "    model.train()\n",
    "    running_loss = 0.0\n",
    "    corrects = 0\n",
    "    for inputs, labels in train_loader:\n",
    "        inputs, labels = inputs.to(device), labels.to(device)\n",
    "        optimizer.zero_grad()\n",
    "        with autocast():\n",
    "            outputs = model(inputs)\n",
    "            loss = criterion(outputs, labels)\n",
    "        scaler.scale(loss).backward()\n",
    "        scaler.step(optimizer)\n",
    "        scaler.update()\n",
    "        running_loss += loss.item() * inputs.size(0)\n",
    "        _, preds = torch.max(outputs, 1)\n",
    "        corrects += torch.sum(preds == labels.data)\n",
    "    \n",
    "    scheduler.step()\n",
    "\n",
    "    epoch_loss = running_loss / len(train_loader.dataset)\n",
    "    epoch_acc = corrects.double() / len(train_loader.dataset)\n",
    "    print(f'Epoch {epoch}/{num_epochs - 1}, Training Loss: {epoch_loss:.4f}, Training Accuracy: {epoch_acc:.4f}')\n",
    "\n",
    "    # Validation loop\n",
    "    model.eval()\n",
    "    val_loss = 0.0\n",
    "    corrects = 0\n",
    "    with torch.no_grad():\n",
    "        for inputs, labels in val_loader:\n",
    "            inputs, labels = inputs.to(device), labels.to(device)\n",
    "            with autocast():\n",
    "                outputs = model(inputs)\n",
    "                loss = criterion(outputs, labels)\n",
    "            val_loss += loss.item() * inputs.size(0)\n",
    "            _, preds = torch.max(outputs, 1)\n",
    "            corrects += torch.sum(preds == labels.data)\n",
    "    \n",
    "    val_loss = val_loss / len(val_loader.dataset)\n",
    "    val_acc = corrects.double() / len(val_loader.dataset)\n",
    "    print(f'Validation Loss: {val_loss:.4f}, Validation Accuracy: {val_acc:.4f}')"
   ]
  }
 ],
 "metadata": {
  "kernelspec": {
   "display_name": "Python 3",
   "language": "python",
   "name": "python3"
  },
  "language_info": {
   "codemirror_mode": {
    "name": "ipython",
    "version": 3
   },
   "file_extension": ".py",
   "mimetype": "text/x-python",
   "name": "python",
   "nbconvert_exporter": "python",
   "pygments_lexer": "ipython3",
   "version": "3.10.12"
  }
 },
 "nbformat": 4,
 "nbformat_minor": 2
}
