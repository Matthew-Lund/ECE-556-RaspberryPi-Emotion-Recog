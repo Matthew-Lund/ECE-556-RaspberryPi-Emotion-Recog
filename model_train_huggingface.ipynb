{
 "cells": [
  {
   "cell_type": "code",
   "execution_count": 42,
   "metadata": {},
   "outputs": [],
   "source": [
    "from datasets import load_dataset\n",
    "from transformers import AutoFeatureExtractor  , AutoModelForImageClassification, TrainingArguments, Trainer\n",
    "from torch.utils.data import Dataset\n",
    "from torchvision import transforms\n",
    "from sklearn.metrics import accuracy_score, precision_recall_fscore_support\n",
    "from PIL import Image\n",
    "import torch"
   ]
  },
  {
   "cell_type": "code",
   "execution_count": 66,
   "metadata": {},
   "outputs": [
    {
     "name": "stderr",
     "output_type": "stream",
     "text": [
      "/home/lundm/.local/lib/python3.10/site-packages/transformers/models/convnext/feature_extraction_convnext.py:28: FutureWarning: The class ConvNextFeatureExtractor is deprecated and will be removed in version 5 of Transformers. Please use ConvNextImageProcessor instead.\n",
      "  warnings.warn(\n"
     ]
    }
   ],
   "source": [
    "#Loading FER-2013 Dataset:  https://huggingface.co/datasets/3una/Fer2013\n",
    "\n",
    "dataset = load_dataset(\"AutumnQiu/fer2013\")\n",
    "\n",
    "sample_train = 22000\n",
    "sample_test = 3000\n",
    "seed = 27\n",
    "\n",
    "dataset['train'] = dataset['train'].shuffle(seed=seed).select(range(sample_train))\n",
    "dataset['test'] = dataset['test'].shuffle(seed=seed).select(range(sample_test))\n",
    "\n",
    "test_valid_split = dataset['test'].train_test_split(test_size=0.65, seed=45)\n",
    "dataset['test'] = test_valid_split['train']\n",
    "dataset['validation'] = test_valid_split['test']\n",
    "\n",
    "#Import ResNet-50 from HuggingFace\n",
    "feature_extractor = AutoFeatureExtractor.from_pretrained(\"microsoft/resnet-26\")\n",
    "model = AutoModelForImageClassification.from_pretrained(\"microsoft/resnet-26\")"
   ]
  },
  {
   "cell_type": "code",
   "execution_count": 67,
   "metadata": {},
   "outputs": [
    {
     "name": "stdout",
     "output_type": "stream",
     "text": [
      "{'label': 4, 'image': <PIL.PngImagePlugin.PngImageFile image mode=RGB size=48x48 at 0x7FB09A83F670>}\n"
     ]
    }
   ],
   "source": [
    "print(dataset['train'][0])"
   ]
  },
  {
   "cell_type": "code",
   "execution_count": 68,
   "metadata": {},
   "outputs": [
    {
     "name": "stderr",
     "output_type": "stream",
     "text": [
      "Map: 100%|██████████| 22000/22000 [01:34<00:00, 233.05 examples/s]\n"
     ]
    }
   ],
   "source": [
    "# Define the transform function\n",
    "def transform(example_batch):\n",
    "    # Take a list of PIL images and turn them to pixel values\n",
    "    inputs = feature_extractor([img.convert(\"RGB\") for img in example_batch['image']], return_tensors='pt')\n",
    "    inputs['labels'] = example_batch['label']\n",
    "    return inputs\n",
    "\n",
    "# Apply the transform to the datasets\n",
    "dataset = dataset.map(transform, batched=True)\n",
    "\n",
    "# Remove the 'image' column as it's now transformed\n",
    "dataset = dataset.remove_columns(['image'])\n",
    "\n",
    "# Set the format for PyTorch\n",
    "dataset.set_format(type='torch')"
   ]
  },
  {
   "cell_type": "code",
   "execution_count": 69,
   "metadata": {},
   "outputs": [],
   "source": [
    "from transformers import Trainer"
   ]
  },
  {
   "cell_type": "code",
   "execution_count": 70,
   "metadata": {},
   "outputs": [],
   "source": [
    "def compute_metrics(p):\n",
    "    preds = p.predictions.argmax(-1)\n",
    "    labels = p.label_ids\n",
    "    precision, recall, f1, _ = precision_recall_fscore_support(labels, preds, average='weighted')\n",
    "    acc = accuracy_score(labels, preds)\n",
    "    return {\n",
    "        'accuracy': acc,\n",
    "        'precision': precision,\n",
    "        'recall': recall,\n",
    "        'f1': f1,\n",
    "    }"
   ]
  },
  {
   "cell_type": "code",
   "execution_count": 73,
   "metadata": {},
   "outputs": [
    {
     "name": "stderr",
     "output_type": "stream",
     "text": [
      "/home/lundm/.local/lib/python3.10/site-packages/transformers/training_args.py:1594: FutureWarning: `evaluation_strategy` is deprecated and will be removed in version 4.46 of 🤗 Transformers. Use `eval_strategy` instead\n",
      "  warnings.warn(\n"
     ]
    }
   ],
   "source": [
    "#Training Args\n",
    "training_args = TrainingArguments(\n",
    "    output_dir='./huggingface_fer_model/results',          # output directory\n",
    "    num_train_epochs=25,              # total number of training epochs\n",
    "    per_device_train_batch_size=24,  # batch size for training\n",
    "    per_device_eval_batch_size=24,   # batch size for evaluation\n",
    "    evaluation_strategy=\"epoch\",     # evaluation strategy to use at the end of each epoch\n",
    "    save_strategy=\"epoch\",           # save strategy to use at the end of each epoch\n",
    "    logging_dir='./huggingface_fer_model/logs',            # directory for storing logs\n",
    "    logging_steps=25,\n",
    "    warmup_steps=200,                 # number of warmup steps for learning rate scheduler\n",
    "    report_to=[],                    # disable reporting to any integration\n",
    "    learning_rate=7e-5,\n",
    "    weight_decay=0.05,\n",
    ")\n",
    "\n",
    "#Trainer\n",
    "trainer = Trainer(\n",
    "    model=model,                         \n",
    "    args=training_args,                  \n",
    "    train_dataset=dataset['train'],      \n",
    "    eval_dataset=dataset['validation'],\n",
    "    compute_metrics=compute_metrics\n",
    ")"
   ]
  },
  {
   "cell_type": "code",
   "execution_count": 74,
   "metadata": {},
   "outputs": [
    {
     "data": {
      "text/html": [
       "\n",
       "    <div>\n",
       "      \n",
       "      <progress value='22925' max='22925' style='width:300px; height:20px; vertical-align: middle;'></progress>\n",
       "      [22925/22925 1:10:37, Epoch 25/25]\n",
       "    </div>\n",
       "    <table border=\"1\" class=\"dataframe\">\n",
       "  <thead>\n",
       " <tr style=\"text-align: left;\">\n",
       "      <th>Epoch</th>\n",
       "      <th>Training Loss</th>\n",
       "      <th>Validation Loss</th>\n",
       "      <th>Accuracy</th>\n",
       "      <th>Precision</th>\n",
       "      <th>Recall</th>\n",
       "      <th>F1</th>\n",
       "    </tr>\n",
       "  </thead>\n",
       "  <tbody>\n",
       "    <tr>\n",
       "      <td>1</td>\n",
       "      <td>0.149800</td>\n",
       "      <td>1.601404</td>\n",
       "      <td>0.629231</td>\n",
       "      <td>0.636532</td>\n",
       "      <td>0.629231</td>\n",
       "      <td>0.628493</td>\n",
       "    </tr>\n",
       "    <tr>\n",
       "      <td>2</td>\n",
       "      <td>0.105100</td>\n",
       "      <td>1.830445</td>\n",
       "      <td>0.645128</td>\n",
       "      <td>0.646625</td>\n",
       "      <td>0.645128</td>\n",
       "      <td>0.642679</td>\n",
       "    </tr>\n",
       "    <tr>\n",
       "      <td>3</td>\n",
       "      <td>0.082800</td>\n",
       "      <td>2.128633</td>\n",
       "      <td>0.640000</td>\n",
       "      <td>0.639272</td>\n",
       "      <td>0.640000</td>\n",
       "      <td>0.636502</td>\n",
       "    </tr>\n",
       "    <tr>\n",
       "      <td>4</td>\n",
       "      <td>0.059600</td>\n",
       "      <td>2.315516</td>\n",
       "      <td>0.622051</td>\n",
       "      <td>0.631463</td>\n",
       "      <td>0.622051</td>\n",
       "      <td>0.620509</td>\n",
       "    </tr>\n",
       "    <tr>\n",
       "      <td>5</td>\n",
       "      <td>0.086600</td>\n",
       "      <td>2.062851</td>\n",
       "      <td>0.638462</td>\n",
       "      <td>0.637662</td>\n",
       "      <td>0.638462</td>\n",
       "      <td>0.637180</td>\n",
       "    </tr>\n",
       "    <tr>\n",
       "      <td>6</td>\n",
       "      <td>0.062900</td>\n",
       "      <td>2.216640</td>\n",
       "      <td>0.637949</td>\n",
       "      <td>0.633263</td>\n",
       "      <td>0.637949</td>\n",
       "      <td>0.634026</td>\n",
       "    </tr>\n",
       "    <tr>\n",
       "      <td>7</td>\n",
       "      <td>0.081100</td>\n",
       "      <td>2.366654</td>\n",
       "      <td>0.655385</td>\n",
       "      <td>0.659991</td>\n",
       "      <td>0.655385</td>\n",
       "      <td>0.654837</td>\n",
       "    </tr>\n",
       "    <tr>\n",
       "      <td>8</td>\n",
       "      <td>0.017500</td>\n",
       "      <td>2.333942</td>\n",
       "      <td>0.647179</td>\n",
       "      <td>0.652457</td>\n",
       "      <td>0.647179</td>\n",
       "      <td>0.645926</td>\n",
       "    </tr>\n",
       "    <tr>\n",
       "      <td>9</td>\n",
       "      <td>0.052200</td>\n",
       "      <td>2.383913</td>\n",
       "      <td>0.644103</td>\n",
       "      <td>0.642959</td>\n",
       "      <td>0.644103</td>\n",
       "      <td>0.639968</td>\n",
       "    </tr>\n",
       "    <tr>\n",
       "      <td>10</td>\n",
       "      <td>0.030900</td>\n",
       "      <td>2.588795</td>\n",
       "      <td>0.651282</td>\n",
       "      <td>0.648812</td>\n",
       "      <td>0.651282</td>\n",
       "      <td>0.646589</td>\n",
       "    </tr>\n",
       "    <tr>\n",
       "      <td>11</td>\n",
       "      <td>0.004900</td>\n",
       "      <td>2.524383</td>\n",
       "      <td>0.661026</td>\n",
       "      <td>0.666284</td>\n",
       "      <td>0.661026</td>\n",
       "      <td>0.660734</td>\n",
       "    </tr>\n",
       "    <tr>\n",
       "      <td>12</td>\n",
       "      <td>0.005100</td>\n",
       "      <td>2.590664</td>\n",
       "      <td>0.648205</td>\n",
       "      <td>0.646910</td>\n",
       "      <td>0.648205</td>\n",
       "      <td>0.646758</td>\n",
       "    </tr>\n",
       "    <tr>\n",
       "      <td>13</td>\n",
       "      <td>0.029800</td>\n",
       "      <td>2.663233</td>\n",
       "      <td>0.642051</td>\n",
       "      <td>0.640751</td>\n",
       "      <td>0.642051</td>\n",
       "      <td>0.638091</td>\n",
       "    </tr>\n",
       "    <tr>\n",
       "      <td>14</td>\n",
       "      <td>0.025700</td>\n",
       "      <td>2.702264</td>\n",
       "      <td>0.651282</td>\n",
       "      <td>0.651873</td>\n",
       "      <td>0.651282</td>\n",
       "      <td>0.648120</td>\n",
       "    </tr>\n",
       "    <tr>\n",
       "      <td>15</td>\n",
       "      <td>0.010600</td>\n",
       "      <td>2.720489</td>\n",
       "      <td>0.648205</td>\n",
       "      <td>0.648615</td>\n",
       "      <td>0.648205</td>\n",
       "      <td>0.644974</td>\n",
       "    </tr>\n",
       "    <tr>\n",
       "      <td>16</td>\n",
       "      <td>0.022100</td>\n",
       "      <td>2.629998</td>\n",
       "      <td>0.662564</td>\n",
       "      <td>0.660206</td>\n",
       "      <td>0.662564</td>\n",
       "      <td>0.658943</td>\n",
       "    </tr>\n",
       "    <tr>\n",
       "      <td>17</td>\n",
       "      <td>0.012300</td>\n",
       "      <td>2.718463</td>\n",
       "      <td>0.646154</td>\n",
       "      <td>0.648510</td>\n",
       "      <td>0.646154</td>\n",
       "      <td>0.646140</td>\n",
       "    </tr>\n",
       "    <tr>\n",
       "      <td>18</td>\n",
       "      <td>0.007600</td>\n",
       "      <td>2.702065</td>\n",
       "      <td>0.654359</td>\n",
       "      <td>0.658102</td>\n",
       "      <td>0.654359</td>\n",
       "      <td>0.652026</td>\n",
       "    </tr>\n",
       "    <tr>\n",
       "      <td>19</td>\n",
       "      <td>0.002800</td>\n",
       "      <td>2.624418</td>\n",
       "      <td>0.654872</td>\n",
       "      <td>0.653882</td>\n",
       "      <td>0.654872</td>\n",
       "      <td>0.652087</td>\n",
       "    </tr>\n",
       "    <tr>\n",
       "      <td>20</td>\n",
       "      <td>0.007500</td>\n",
       "      <td>2.717185</td>\n",
       "      <td>0.655385</td>\n",
       "      <td>0.653387</td>\n",
       "      <td>0.655385</td>\n",
       "      <td>0.650622</td>\n",
       "    </tr>\n",
       "    <tr>\n",
       "      <td>21</td>\n",
       "      <td>0.005000</td>\n",
       "      <td>2.663281</td>\n",
       "      <td>0.652308</td>\n",
       "      <td>0.648779</td>\n",
       "      <td>0.652308</td>\n",
       "      <td>0.647099</td>\n",
       "    </tr>\n",
       "    <tr>\n",
       "      <td>22</td>\n",
       "      <td>0.004200</td>\n",
       "      <td>2.649121</td>\n",
       "      <td>0.651282</td>\n",
       "      <td>0.649569</td>\n",
       "      <td>0.651282</td>\n",
       "      <td>0.648848</td>\n",
       "    </tr>\n",
       "    <tr>\n",
       "      <td>23</td>\n",
       "      <td>0.003700</td>\n",
       "      <td>2.701023</td>\n",
       "      <td>0.651795</td>\n",
       "      <td>0.650847</td>\n",
       "      <td>0.651795</td>\n",
       "      <td>0.649229</td>\n",
       "    </tr>\n",
       "    <tr>\n",
       "      <td>24</td>\n",
       "      <td>0.003400</td>\n",
       "      <td>2.677442</td>\n",
       "      <td>0.656410</td>\n",
       "      <td>0.653667</td>\n",
       "      <td>0.656410</td>\n",
       "      <td>0.652732</td>\n",
       "    </tr>\n",
       "    <tr>\n",
       "      <td>25</td>\n",
       "      <td>0.004400</td>\n",
       "      <td>2.669773</td>\n",
       "      <td>0.660513</td>\n",
       "      <td>0.660343</td>\n",
       "      <td>0.660513</td>\n",
       "      <td>0.657194</td>\n",
       "    </tr>\n",
       "  </tbody>\n",
       "</table><p>"
      ],
      "text/plain": [
       "<IPython.core.display.HTML object>"
      ]
     },
     "metadata": {},
     "output_type": "display_data"
    },
    {
     "data": {
      "text/plain": [
       "TrainOutput(global_step=22925, training_loss=0.031089846424602538, metrics={'train_runtime': 4238.1271, 'train_samples_per_second': 129.774, 'train_steps_per_second': 5.409, 'total_flos': 7.9454821146624e+18, 'train_loss': 0.031089846424602538, 'epoch': 25.0})"
      ]
     },
     "execution_count": 74,
     "metadata": {},
     "output_type": "execute_result"
    }
   ],
   "source": [
    "trainer.train()"
   ]
  },
  {
   "cell_type": "code",
   "execution_count": null,
   "metadata": {},
   "outputs": [
    {
     "data": {
      "text/html": [
       "\n",
       "    <div>\n",
       "      \n",
       "      <progress value='22' max='22' style='width:300px; height:20px; vertical-align: middle;'></progress>\n",
       "      [22/22 00:01]\n",
       "    </div>\n",
       "    "
      ],
      "text/plain": [
       "<IPython.core.display.HTML object>"
      ]
     },
     "metadata": {},
     "output_type": "display_data"
    },
    {
     "name": "stdout",
     "output_type": "stream",
     "text": [
      "Validation Loss: 2.0952\n",
      "Validation Accuracy: 0.2914\n",
      "Validation Precision: 0.3032\n",
      "Validation Recall: 0.2914\n",
      "Validation F1 Score: 0.2911\n"
     ]
    },
    {
     "name": "stderr",
     "output_type": "stream",
     "text": [
      "/home/lundm/.local/lib/python3.10/site-packages/sklearn/metrics/_classification.py:1531: UndefinedMetricWarning: Recall is ill-defined and being set to 0.0 in labels with no true samples. Use `zero_division` parameter to control this behavior.\n",
      "  _warn_prf(average, modifier, f\"{metric.capitalize()} is\", len(result))\n"
     ]
    }
   ],
   "source": [
    "eval_results = trainer.evaluate()\n",
    "print(f\"Validation Loss: {eval_results['eval_loss']:.4f}\")\n",
    "print(f\"Validation Accuracy: {eval_results['eval_accuracy']:.4f}\")\n",
    "print(f\"Validation Precision: {eval_results['eval_precision']:.4f}\")\n",
    "print(f\"Validation Recall: {eval_results['eval_recall']:.4f}\")\n",
    "print(f\"Validation F1 Score: {eval_results['eval_f1']:.4f}\")"
   ]
  },
  {
   "cell_type": "code",
   "execution_count": null,
   "metadata": {},
   "outputs": [],
   "source": [
    "model.save_pretrained('./resnet26_fer2013_model')\n",
    "feature_extractor.save_pretrained('./resnet26_fer2013_model')"
   ]
  }
 ],
 "metadata": {
  "kernelspec": {
   "display_name": "Python 3",
   "language": "python",
   "name": "python3"
  },
  "language_info": {
   "codemirror_mode": {
    "name": "ipython",
    "version": 3
   },
   "file_extension": ".py",
   "mimetype": "text/x-python",
   "name": "python",
   "nbconvert_exporter": "python",
   "pygments_lexer": "ipython3",
   "version": "3.10.12"
  }
 },
 "nbformat": 4,
 "nbformat_minor": 2
}
