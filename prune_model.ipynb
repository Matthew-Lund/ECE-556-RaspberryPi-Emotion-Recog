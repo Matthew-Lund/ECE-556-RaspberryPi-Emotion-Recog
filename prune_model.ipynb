{
 "cells": [
  {
   "cell_type": "code",
   "execution_count": 5,
   "metadata": {},
   "outputs": [],
   "source": [
    "import torch\n",
    "from transformers import AutoModelForImageClassification, AutoFeatureExtractor\n",
    "from torch.quantization import quantize_dynamic, get_default_qconfig, prepare, convert, quantize_fx\n",
    "import torch.nn.utils.prune as prune"
   ]
  },
  {
   "cell_type": "code",
   "execution_count": 7,
   "metadata": {},
   "outputs": [
    {
     "name": "stderr",
     "output_type": "stream",
     "text": [
      "/home/lundm/.local/lib/python3.10/site-packages/transformers/models/mobilenet_v2/feature_extraction_mobilenet_v2.py:28: FutureWarning: The class MobileNetV2FeatureExtractor is deprecated and will be removed in version 5 of Transformers. Please use MobileNetV2ImageProcessor instead.\n",
      "  warnings.warn(\n"
     ]
    }
   ],
   "source": [
    "# 1. Load the pre-trained model and tokenizer\n",
    "model_name = './mobilenet_v2_affectnethq-fer2013_model'\n",
    "output_dir = \"./mobilenet_v2_affectnethq-fer2013_quantized_pruned\" #Replace with your output directory\n",
    "model = AutoModelForImageClassification.from_pretrained(model_name)\n",
    "feature_extractor = AutoFeatureExtractor.from_pretrained(model_name)\n"
   ]
  },
  {
   "cell_type": "code",
   "execution_count": null,
   "metadata": {},
   "outputs": [],
   "source": [
    "# 2. Pruning\n",
    "pruning_amount = 0.1  # Adjust as needed\n",
    "for name, module in model.named_modules():\n",
    "    if isinstance(module, torch.nn.Linear):\n",
    "        prune.l1_unstructured(module, name='weight', amount=pruning_amount)\n",
    "\n",
    "        # Manually remove pruning buffers\n",
    "        for buffer_name in list(module.named_buffers()):\n",
    "            if \"weight_mask\" in buffer_name or \"weight_orig\" in buffer_name:\n",
    "                delattr(module, buffer_name[0])"
   ]
  },
  {
   "cell_type": "code",
   "execution_count": null,
   "metadata": {},
   "outputs": [],
   "source": [
    "# 3. Quantization (Dynamic Example)\n",
    "#quantized_model = quantize_dynamic(model, {torch.nn.Linear}, dtype=torch.qint8)\n",
    "\n",
    "# 3. Quantization (Static Example - Requires Calibration)\n",
    "model.eval()\n",
    "model.qconfig = get_default_qconfig('fbgemm')\n",
    "torch.quantization.prepare(model, inplace=True)\n",
    "\n",
    "def calibrate(model, feature_extractor, num_calibration_steps=10):\n",
    "    for _ in range(num_calibration_steps):\n",
    "        random_input = torch.randn(1, 3, 224, 224)\n",
    "        normalized_input = (random_input - random_input.min()) / (random_input.max() - random_input.min())\n",
    "        inputs = feature_extractor(images=normalized_input, return_tensors=\"pt\")\n",
    "        model(**inputs)\n",
    "\n",
    "calibrate(model, feature_extractor)\n",
    "quantized_model = torch.quantization.convert(model)\n",
    "\n",
    "\n",
    "# 3. Quantization (FX Example)\n",
    "#model.eval()\n",
    "#qconfig = get_default_qconfig(\"fbgemm\")\n",
    "#qconfig_dict = {\"\": qconfig}\n",
    "#prepared_model = prepare(model, qconfig_dict)\n",
    "\n",
    "#def calibrate_fx(prepared_model, tokenizer, num_calibration_steps=10):\n",
    "#    for _ in range(num_calibration_steps):\n",
    "#        inputs = tokenizer(\"This is a sample sentence.\", return_tensors=\"pt\")\n",
    "#        prepared_model(**inputs)\n",
    "\n",
    "#calibrate_fx(prepared_model, tokenizer)\n",
    "#quantized_model = convert(prepared_model)\n",
    "\n"
   ]
  },
  {
   "cell_type": "code",
   "execution_count": 16,
   "metadata": {},
   "outputs": [
    {
     "ename": "AttributeError",
     "evalue": "'NoneType' object has no attribute 'data_ptr'",
     "output_type": "error",
     "traceback": [
      "\u001b[0;31m---------------------------------------------------------------------------\u001b[0m",
      "\u001b[0;31mAttributeError\u001b[0m                            Traceback (most recent call last)",
      "Cell \u001b[0;32mIn[16], line 2\u001b[0m\n\u001b[1;32m      1\u001b[0m \u001b[38;5;66;03m# 4. Save the quantized and pruned model\u001b[39;00m\n\u001b[0;32m----> 2\u001b[0m \u001b[43mquantized_model\u001b[49m\u001b[38;5;241;43m.\u001b[39;49m\u001b[43msave_pretrained\u001b[49m\u001b[43m(\u001b[49m\u001b[43moutput_dir\u001b[49m\u001b[43m)\u001b[49m\n\u001b[1;32m      3\u001b[0m feature_extractor\u001b[38;5;241m.\u001b[39msave_pretrained(output_dir)\n\u001b[1;32m      5\u001b[0m \u001b[38;5;28mprint\u001b[39m(\u001b[38;5;124mf\u001b[39m\u001b[38;5;124m\"\u001b[39m\u001b[38;5;124mQuantized and pruned model saved to \u001b[39m\u001b[38;5;132;01m{\u001b[39;00moutput_dir\u001b[38;5;132;01m}\u001b[39;00m\u001b[38;5;124m\"\u001b[39m)\n",
      "File \u001b[0;32m~/.local/lib/python3.10/site-packages/transformers/modeling_utils.py:2932\u001b[0m, in \u001b[0;36mPreTrainedModel.save_pretrained\u001b[0;34m(self, save_directory, is_main_process, state_dict, save_function, push_to_hub, max_shard_size, safe_serialization, variant, token, save_peft_format, **kwargs)\u001b[0m\n\u001b[1;32m   2930\u001b[0m                     to_delete_names\u001b[38;5;241m.\u001b[39madd(name)\n\u001b[1;32m   2931\u001b[0m \u001b[38;5;66;03m# We are entering a place where the weights and the transformers configuration do NOT match.\u001b[39;00m\n\u001b[0;32m-> 2932\u001b[0m shared_names, disjoint_names \u001b[38;5;241m=\u001b[39m \u001b[43m_find_disjoint\u001b[49m\u001b[43m(\u001b[49m\u001b[43mshared_ptrs\u001b[49m\u001b[38;5;241;43m.\u001b[39;49m\u001b[43mvalues\u001b[49m\u001b[43m(\u001b[49m\u001b[43m)\u001b[49m\u001b[43m,\u001b[49m\u001b[43m \u001b[49m\u001b[43mstate_dict\u001b[49m\u001b[43m)\u001b[49m\n\u001b[1;32m   2933\u001b[0m \u001b[38;5;66;03m# Those are actually tensor sharing but disjoint from each other, we can safely clone them\u001b[39;00m\n\u001b[1;32m   2934\u001b[0m \u001b[38;5;66;03m# Reloaded won't have the same property, but it shouldn't matter in any meaningful way.\u001b[39;00m\n\u001b[1;32m   2935\u001b[0m \u001b[38;5;28;01mfor\u001b[39;00m name \u001b[38;5;129;01min\u001b[39;00m disjoint_names:\n",
      "File \u001b[0;32m~/.local/lib/python3.10/site-packages/transformers/modeling_utils.py:637\u001b[0m, in \u001b[0;36m_find_disjoint\u001b[0;34m(tensors, state_dict)\u001b[0m\n\u001b[1;32m    635\u001b[0m \u001b[38;5;28;01mfor\u001b[39;00m name \u001b[38;5;129;01min\u001b[39;00m shared:\n\u001b[1;32m    636\u001b[0m     tensor \u001b[38;5;241m=\u001b[39m state_dict[name]\n\u001b[0;32m--> 637\u001b[0m     areas\u001b[38;5;241m.\u001b[39mappend((\u001b[43mtensor\u001b[49m\u001b[38;5;241;43m.\u001b[39;49m\u001b[43mdata_ptr\u001b[49m(), _end_ptr(tensor), name))\n\u001b[1;32m    638\u001b[0m areas\u001b[38;5;241m.\u001b[39msort()\n\u001b[1;32m    640\u001b[0m _, last_stop, last_name \u001b[38;5;241m=\u001b[39m areas[\u001b[38;5;241m0\u001b[39m]\n",
      "\u001b[0;31mAttributeError\u001b[0m: 'NoneType' object has no attribute 'data_ptr'"
     ]
    }
   ],
   "source": [
    "# 4. Save the quantized and pruned model\n",
    "quantized_model.save_pretrained(output_dir)\n",
    "feature_extractor.save_pretrained(output_dir)\n",
    "\n",
    "print(f\"Quantized and pruned model saved to {output_dir}\")"
   ]
  }
 ],
 "metadata": {
  "kernelspec": {
   "display_name": "Python 3",
   "language": "python",
   "name": "python3"
  },
  "language_info": {
   "codemirror_mode": {
    "name": "ipython",
    "version": 3
   },
   "file_extension": ".py",
   "mimetype": "text/x-python",
   "name": "python",
   "nbconvert_exporter": "python",
   "pygments_lexer": "ipython3",
   "version": "3.10.12"
  }
 },
 "nbformat": 4,
 "nbformat_minor": 2
}
